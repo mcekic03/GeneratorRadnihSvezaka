{
 "cells": [
  {
   "cell_type": "markdown",
   "metadata": {},
   "source": [
    "## UČITAVANJE EXCELA"
   ]
  },
  {
   "cell_type": "code",
   "execution_count": 19,
   "metadata": {},
   "outputs": [
    {
     "name": "stdout",
     "output_type": "stream",
     "text": [
      "     0                                                  1                                                  2                                         3                                            4\n",
      "0  NaN                                                NaN                                                NaN                                       NaN                                          NaN\n",
      "1  NaN                                                NaN                                                NaN                                       NaN                                          NaN\n",
      "2  NaN                         Kvalitet nastavnog procesa                                                NaN                                       NaN                                          NaN\n",
      "3  NaN                                                NaN  predavanja / računske vežbe / laboratorijske v...                                       NaN                                          NaN\n",
      "4  NaN             Broj časova nastave na matičnom odseku                                             16/0/0                                       NaN                                          NaN\n",
      "5  NaN                                                NaN                                                NaN                                       NaN                                          NaN\n",
      "6  NaN               Broj časova nastave na drugom odseku                                              0/0/0                                       NaN                                          NaN\n",
      "7  NaN                                                NaN                                                NaN                                       NaN                                          NaN\n",
      "8  NaN                Broj Mentorstva na master studijama                                                  0                                       NaN                                          NaN\n",
      "9  NaN                                                NaN                                                NaN                                       NaN                                          NaN\n",
      "10 NaN      Broj Mentorstva na specijalističkim studijama                                                  0                                       NaN                                          NaN\n",
      "11 NaN                                                NaN                                                NaN                                       NaN                                          NaN\n",
      "12 NaN              Broj Mentorstva na osnovnim studijama                                                  1                                       NaN                                          NaN\n",
      "13 NaN                                                NaN                                                NaN                                       NaN                                          NaN\n",
      "14 NaN               Broj komisija za odbranu master rada                                                  0                                       NaN                                          NaN\n",
      "15 NaN                                                NaN                                                NaN                                       NaN                                          NaN\n",
      "16 NaN     Broj komisija za odbranu specijalističkog rada                                                  0                                       NaN                                          NaN\n",
      "17 NaN                                                NaN                                                NaN                                       NaN                                          NaN\n",
      "18 NaN             Broj komisija za odbranu završnog rada                                                  0                                       NaN                                          NaN\n",
      "19 NaN                                                NaN                                                NaN                                       NaN                                          NaN\n",
      "20 NaN                                                NaN                                                NaN                                       NaN                                          NaN\n",
      "21 NaN                         Kvalitet nastavnog procesa                                                NaN                                       NaN                                          NaN\n",
      "22 NaN                                                NaN                          Kratak opis (max 30 reči)                                       NaN                                          NaN\n",
      "23 NaN                             [Nastavna aktivnost 1]  Vanredni ispitni rok Okrobar 2  - priprema bla...                                       NaN                                          NaN\n",
      "24 NaN                                                NaN                                                NaN                                       NaN                                          NaN\n",
      "25 NaN                    Inovativnost nastavnih sadržaja  Unapređenje programskih sadržaja, nastavnog ma...                                       NaN                                          NaN\n",
      "26 NaN                                                NaN      1. Elektrotehnika sa elektronikom (INI i DRS)                                       NaN                                          NaN\n",
      "27 NaN                                                NaN               2. Arhitektura mikrokontrolera (SRT)                                       NaN                                          NaN\n",
      "28 NaN                                                NaN                                                NaN                                       NaN                                          NaN\n",
      "29 NaN                             [Nastavna aktivnost 3]                                                NaN                                       NaN                                          NaN\n",
      "30 NaN                                                NaN                                                NaN                                       NaN                                          NaN\n",
      "31 NaN                                                NaN                                                NaN                                       NaN                                          NaN\n",
      "32 NaN                                  Rad sa Studentima                                                NaN                                       NaN                                          NaN\n",
      "33 NaN                                                NaN                          Kratak opis (max 30 reči)  Broj sati utrošen za pripremu aktivnosti  Broj sati utrošen za realizaciju aktivnosti\n",
      "34 NaN                                Rad sa studentima 1  Definisanje praktične teme za Master završni r...                                    30 min                                          NaN\n",
      "35 NaN                                                NaN                                                NaN                                       NaN                                          NaN\n",
      "36 NaN                                Rad sa studentima 2  Konsultacije oko utvrđivanja teme za Završni r...                                    30 min                                          NaN\n",
      "37 NaN                                                NaN                                                NaN                                       NaN                                          NaN\n",
      "38 NaN                                Rad sa studentima 3  Realizacija vanrednog ispitnog roka - Oktobar ...                                       2 h                                          2 h\n",
      "39 NaN                                                NaN  Realizacija vanrednog ispitnog roka - Oktobar ...                                       2 h                                          6 h\n",
      "40 NaN                                                NaN                                                NaN                                       NaN                                          NaN\n",
      "41 NaN                                                NaN                                                NaN                                       NaN                                          NaN\n",
      "42 NaN                       Podizanje kvaliteta ustanove                                                NaN                                       NaN                                          NaN\n",
      "43 NaN                                                NaN                          Kratak opis (max 30 reči)                                       NaN                                          NaN\n",
      "44 NaN                                             Ostalo  Instaliranje programskog softvera NAT 2019, uč...                                       NaN                                          NaN\n",
      "45 NaN                                                NaN                                                NaN                                       NaN                                          NaN\n",
      "46 NaN                                      Unapređenje 2  Rad u programskom softveru NAT 2019, učenje i ...                                       NaN                                          NaN\n",
      "47 NaN                                                NaN                                                NaN                                       NaN                                          NaN\n",
      "48 NaN                                      Unapređenje 3  Rad u programskom softveru NAT 2019 sa kolegin...                                       NaN                                          NaN\n",
      "49 NaN                                                NaN                                                NaN                                       NaN                                          NaN\n",
      "50 NaN                                                NaN                                                NaN                                       NaN                                          NaN\n",
      "51 NaN                                                NaN                                                NaN                                       NaN                                          NaN\n",
      "52 NaN               Jačanje kapaciteta i imidža ustanove                                                NaN                                       NaN                                          NaN\n",
      "53 NaN                                                NaN                          Kratak opis (max 30 reči)                                       NaN                                          NaN\n",
      "54 NaN  Учешће у стручним телима других установа и инс...                                                NaN                                       NaN                                          NaN\n",
      "55 NaN                                                NaN                                                NaN                                       NaN                                          NaN\n",
      "56 NaN                                      Unapređenje 2                                                NaN                                       NaN                                          NaN\n",
      "57 NaN                                                NaN                                                NaN                                       NaN                                          NaN\n",
      "58 NaN                                      Unapređenje 3                                                NaN                                       NaN                                          NaN\n",
      "59 NaN                                                NaN                                                NaN                                       NaN                                          NaN\n",
      "60 NaN                                                NaN                                                NaN                                       NaN                                          NaN\n",
      "61 NaN                                                NaN                                                NaN                                       NaN                                          NaN\n",
      "62 NaN                                             Ostalo                                                NaN                                       NaN                                          NaN\n",
      "63 NaN            Nedeljni sastanci Kolegijuma Odseka Niš                                                NaN                                       NaN                                          NaN\n",
      "64 NaN                            Sastanci Katedre za IKT                                                NaN                                       NaN                                          NaN\n",
      "65 NaN                   Mesečna Sednica Saveta ATVSS Niš                                                NaN                                       NaN                                          NaN\n",
      "66 NaN  Promene u elektronskim obrascima prema zahtevi...  Učenje programskog paketa NAT 2019 za potrebe ...                                       NaN                                          NaN\n",
      "     0                           1    2    3    4\n",
      "2  NaN  Kvalitet nastavnog procesa  NaN  NaN  NaN\n",
      "21 NaN  Kvalitet nastavnog procesa  NaN  NaN  NaN\n"
     ]
    },
    {
     "name": "stderr",
     "output_type": "stream",
     "text": [
      "C:\\Users\\Milan Ristic\\AppData\\Local\\Temp\\ipykernel_22760\\2337482428.py:6: FutureWarning: DataFrame.applymap has been deprecated. Use DataFrame.map instead.\n",
      "  df = df.applymap(lambda x: str(x) if isinstance(x, str) else x)\n"
     ]
    }
   ],
   "source": [
    "import pandas as pd\n",
    "\n",
    "xls = pd.ExcelFile(\"Izveštaj o radu_za_Nastavnike_Natasa_Bogdanovic.xlsx\")\n",
    "df = pd.read_excel(xls, header=None, sheet_name=\"oktobar 2024\")\n",
    "\n",
    "df = df.applymap(lambda x: str(x) if isinstance(x, str) else x)\n",
    "\n",
    "# Ensure all rows and columns are displayed\n",
    "pd.set_option('display.max_rows', None)  # Show all rows\n",
    "pd.set_option('display.max_columns', None)  # Show all columns\n",
    "pd.set_option('display.expand_frame_repr', False)  # Prevent line wrapping\n",
    "\n",
    "keyword = \"Kvalitet nastavnog procesa\"\n",
    "\n",
    "condition = \"Rad sa Studentima\"\n",
    "\n",
    "matching_rows = df[df.apply(lambda row: row.astype(str).str.contains(keyword, case=False, na=False).any(), axis=1)]\n",
    "\n",
    "# index_list = df[df[0] == keyword].index.tolist()\n",
    "\n",
    "print(df)\n",
    "\n",
    "print(matching_rows)"
   ]
  },
  {
   "cell_type": "code",
   "execution_count": 23,
   "metadata": {},
   "outputs": [
    {
     "name": "stdout",
     "output_type": "stream",
     "text": [
      "                     Kvalitet nastavnog procesa                                                                                                                  \n",
      "                                                                                                            predavanja / računske vežbe / laboratorijske vežbe   \n",
      "         Broj časova nastave na matičnom odseku                                                                                                          16/0/0  \n",
      "                                                                                                                                                                 \n",
      "           Broj časova nastave na drugom odseku                                                                                                           0/0/0  \n",
      "                                                                                                                                                                 \n",
      "            Broj Mentorstva na master studijama                                                                                                               0  \n",
      "                                                                                                                                                                 \n",
      "  Broj Mentorstva na specijalističkim studijama                                                                                                               0  \n",
      "                                                                                                                                                                 \n",
      "          Broj Mentorstva na osnovnim studijama                                                                                                               1  \n",
      "                                                                                                                                                                 \n",
      "           Broj komisija za odbranu master rada                                                                                                               0  \n",
      "                                                                                                                                                                 \n",
      " Broj komisija za odbranu specijalističkog rada                                                                                                               0  \n",
      "                                                                                                                                                                 \n",
      "         Broj komisija za odbranu završnog rada                                                                                                               0  \n",
      "                                                                                                                                                                 \n",
      "                                                                                                                                                                 \n",
      "                     Kvalitet nastavnog procesa                                                                                                                  \n",
      "                                                                                                                                      Kratak opis (max 30 reči)  \n",
      "                         [Nastavna aktivnost 1] Vanredni ispitni rok Okrobar 2  - priprema blanketa, odžavanje isšita i ocenjivanje 11 studenata iz 5 predmeta.  \n",
      "                                                                                                                                                                 \n",
      "                Inovativnost nastavnih sadržaja                 Unapređenje programskih sadržaja, nastavnog materijala i držanje nastave iz sledećih predmeta:   \n",
      "                                                                                                                  1. Elektrotehnika sa elektronikom (INI i DRS)  \n",
      "                                                                                                                           2. Arhitektura mikrokontrolera (SRT)  \n",
      "                                                                                                                                                                 \n",
      "                         [Nastavna aktivnost 3]                                                                                                                  \n",
      "                                                                                                                                                                 \n",
      "                                                                                                                                                                 \n"
     ]
    },
    {
     "name": "stderr",
     "output_type": "stream",
     "text": [
      "C:\\Users\\Milan Ristic\\AppData\\Local\\Temp\\ipykernel_22760\\44198538.py:6: FutureWarning: DataFrame.applymap has been deprecated. Use DataFrame.map instead.\n",
      "  df = df.applymap(lambda x: str(x) if pd.notna(x) else \"\")\n"
     ]
    }
   ],
   "source": [
    "import pandas as pd\n",
    "\n",
    "xls = pd.ExcelFile(\"Izveštaj o radu_za_Nastavnike_Natasa_Bogdanovic.xlsx\")\n",
    "df = pd.read_excel(xls, header=None, sheet_name=\"oktobar 2024\")\n",
    "\n",
    "df = df.applymap(lambda x: str(x) if pd.notna(x) else \"\")\n",
    "\n",
    "pd.set_option('display.max_rows', None)\n",
    "pd.set_option('display.max_columns', None)\n",
    "pd.set_option('display.expand_frame_repr', False)\n",
    "\n",
    "start_keyword = \"Kvalitet nastavnog procesa\"\n",
    "\n",
    "end_keyword = \"Rad sa Studentima\"\n",
    "\n",
    "start_index = df[df.apply(lambda row: row.astype(str).str.contains(start_keyword, case=False, na=False).any(), axis=1)].index.min()\n",
    "\n",
    "end_index = df[df.apply(lambda row: row.astype(str).str.contains(end_keyword, case=False, na=False).any(), axis=1) & (df.index > start_index)].index.min()\n",
    "\n",
    "if pd.notna(start_index) and pd.notna(end_index):\n",
    "    filtered_df = df.iloc[start_index:end_index] # Filtriranje\n",
    "    print(filtered_df.to_string(index=False, header=False))\n",
    "else:\n",
    "    print(\"Keywords not found in correct order.\")"
   ]
  },
  {
   "cell_type": "code",
   "execution_count": 1,
   "metadata": {},
   "outputs": [
    {
     "ename": "NameError",
     "evalue": "name 'pd' is not defined",
     "output_type": "error",
     "traceback": [
      "\u001b[1;31m---------------------------------------------------------------------------\u001b[0m",
      "\u001b[1;31mNameError\u001b[0m                                 Traceback (most recent call last)",
      "Cell \u001b[1;32mIn[1], line 1\u001b[0m\n\u001b[1;32m----> 1\u001b[0m xls \u001b[38;5;241m=\u001b[39m \u001b[43mpd\u001b[49m\u001b[38;5;241m.\u001b[39mExcelFile(\u001b[38;5;124m\"\u001b[39m\u001b[38;5;124mIzveštaj o radu_za_Nastavnike_Natasa_Bogdanovic.xlsx\u001b[39m\u001b[38;5;124m\"\u001b[39m)\n\u001b[0;32m      2\u001b[0m df \u001b[38;5;241m=\u001b[39m pd\u001b[38;5;241m.\u001b[39mread_excel(xls, header\u001b[38;5;241m=\u001b[39m\u001b[38;5;28;01mNone\u001b[39;00m, sheet_name\u001b[38;5;241m=\u001b[39m\u001b[38;5;124m\"\u001b[39m\u001b[38;5;124moktobar 2024\u001b[39m\u001b[38;5;124m\"\u001b[39m)\n\u001b[0;32m      3\u001b[0m sheet_names \u001b[38;5;241m=\u001b[39m [\u001b[38;5;124m\"\u001b[39m\u001b[38;5;124mOsnovni podaci\u001b[39m\u001b[38;5;124m\"\u001b[39m, \u001b[38;5;124m\"\u001b[39m\u001b[38;5;124moktobar 2024\u001b[39m\u001b[38;5;124m\"\u001b[39m, \u001b[38;5;124m\"\u001b[39m\u001b[38;5;124mnovembar 2024\u001b[39m\u001b[38;5;124m\"\u001b[39m, \u001b[38;5;124m\"\u001b[39m\u001b[38;5;124mdecembar 2024\u001b[39m\u001b[38;5;124m\"\u001b[39m, \u001b[38;5;124m\"\u001b[39m\u001b[38;5;124mJanuar 2025\u001b[39m\u001b[38;5;124m\"\u001b[39m]\n",
      "\u001b[1;31mNameError\u001b[0m: name 'pd' is not defined"
     ]
    }
   ],
   "source": [
    "xls = pd.ExcelFile(\"Izveštaj o radu_za_Nastavnike_Natasa_Bogdanovic.xlsx\")\n",
    "df = pd.read_excel(xls, header=None, sheet_name=\"oktobar 2024\")\n",
    "sheet_names = [\"Osnovni podaci\", \"oktobar 2024\", \"novembar 2024\", \"decembar 2024\", \"Januar 2025\"]\n",
    "sheets = pd.read_excel(xls, sheet_name=sheet_names, header=None)\n",
    "\n",
    "# Extract \"Kvalitet nastavnog procesa\" from each sheet\n",
    "extracted_data = {}\n",
    "\n",
    "for sheet, df in sheets.items():\n",
    "    df = df.map(lambda x: str(x) if pd.notna(x) else \"\")\n",
    "\n",
    "    start_keyword = \"Kvalitet nastavnog procesa\"\n",
    "    end_keyword = \"Rad sa Studentima\"\n",
    "\n",
    "    start_index = df[df.apply(lambda row: row.astype(str).str.contains(start_keyword, case=False, na=False).any(), axis=1)].index.min()\n",
    "    end_index = df[df.apply(lambda row: row.astype(str).str.contains(end_keyword, case=False, na=False).any(), axis=1) & (df.index > start_index)].index.min()\n",
    "\n",
    "    if pd.notna(start_index) and pd.notna(end_index):\n",
    "        filtered_df = df.iloc[start_index:end_index]\n",
    "        extracted_data[sheet] = filtered_df.values.tolist()\n",
    "    else:\n",
    "        extracted_data[sheet] = \"Podaci nisu pronađeni u ispravnom rasporedu.\"\n",
    "\n",
    "    print(extracted_data)"
   ]
  },
  {
   "cell_type": "markdown",
   "metadata": {},
   "source": [
    "## UČITAVANJE OSNOVNIH PODATAKA IZ EXCELA"
   ]
  },
  {
   "cell_type": "code",
   "execution_count": 10,
   "metadata": {},
   "outputs": [
    {
     "name": "stdout",
     "output_type": "stream",
     "text": [
      "                                                                                                                                                                                                   \n",
      "                                                                                                                                                                                                   \n",
      "                                                    Ime                                                                                                                                      Nataša\n",
      "                                                Prezime                                                                                                                                  Bogdanović\n",
      "                                                 Zvanje                                                                                                                 Profesor strukovnih studija\n",
      "                                                                                                                                                                                                   \n",
      " Ukupan broj predmeta na kojima je nastavnik angažovan                                                                                                                                             \n",
      "                                        Osnovne studije                                                                                                                                           5\n",
      "                                         Master studije                                                                                                                                           2\n",
      "                                                 Ukupno                                                                                                                                           7\n",
      "                                                                                                                                                                                                   \n",
      "                                     Ukupno opterećenje                                                                                                                                            \n",
      "                                        Osnovne studije                                                                                                                                           6\n",
      "                                Specijalističke studije                                                                                                                                            \n",
      "                                         Master studije                                                                                                                                           3\n",
      "                                                 Ukupno                                                                                                                                           9\n",
      "                                                                                                                                                                                                   \n",
      "               Predmeti na kojima je saradnik angažovan                                                                                                                                            \n",
      "                                            [Predmet 1]                                                                                                             Elektrotehnika sa elektronikom \n",
      "                                            [Predmet 2]                                                                                                                 Arhitektura mikrokontrolera\n",
      "                                            [Predmet 3]                                                                                                                     Osnovi elektrotehnike 2\n",
      "                                            [Predmet 4]                                                                                                                    Primena mikrokontrolera \n",
      "                                            [Predmet 5]                                                                                                                     Arhiviranje MM sadržaja\n",
      "                                            [Predmet 6]                                                                                                              Programiranje Embedded sistema\n",
      "                                            [Predmet 7]                                                                                                                        Kablovski TK sistemi\n",
      "                                            [Predmet 8]                                                                                                                                            \n",
      "                                            [Predmet 9]                                                                                                                                            \n",
      "                                                                                                                                                                                                   \n",
      "                      Članstvo u komisijama (timovima)                                                                                                                                             \n",
      "                                           [Komisija 1]                                                                                          Komisija za priznavnje ispita na SP KOT, Odsek Niš\n",
      "                                           [Komisija 2] Komisija za izradu Elaborata za Akreditaciju studijskog programa master strukovnih studija Multimedijalne komunikacione tehnologije (MKT)  \n",
      "                                           [Komisija 3]                                                                                                                                            \n",
      "                                           [Komisija 4]                                                                                                                                            \n",
      "                                           [Komisija 5]                                                                                                                                            \n",
      "                                                                                                                                                                                                   \n",
      "                                                                                                                                                                                                   \n",
      "                                      Ostala zaduženja                                                                                                                                             \n",
      "                                          [Zaduženje 1]                                                                           Rukovodilac Laboratorije za multimedijalne tehnologije Odseka Niš\n",
      "                                          [Zaduženje 2]                                                                                   Pomoćnik rukovodioca Odseka Niš za nastavu i akreditaciju\n",
      "                                          [Zaduženje 3]                                                                Pomoćnik šefa Katedre za Informaciono-komunikacione tehnologije na ATVSS Niš\n",
      "                                          [Zaduženje 4]                                                                                                                       Član Saveta ATVSS Niš\n"
     ]
    },
    {
     "name": "stderr",
     "output_type": "stream",
     "text": [
      "C:\\Users\\Milan Ristic\\AppData\\Local\\Temp\\ipykernel_8552\\4159206313.py:6: FutureWarning: DataFrame.applymap has been deprecated. Use DataFrame.map instead.\n",
      "  df = df.applymap(lambda x: str(x) if pd.notna(x) else \"\")\n"
     ]
    }
   ],
   "source": [
    "import pandas as pd\n",
    "\n",
    "xls = pd.ExcelFile(r\"C:/Users/Milan Ristic/OneDrive - Akademija NIŠ/Projekti/PDF Generator radnih svesaka/Izveštaj o radu_za_Nastavnike_Natasa_Bogdanovic.xlsx\")\n",
    "df = pd.read_excel(xls, header=None, sheet_name=\"Osnovni podaci\")\n",
    "\n",
    "df = df.applymap(lambda x: str(x) if pd.notna(x) else \"\")\n",
    "\n",
    "pd.set_option('display.max_rows', None)\n",
    "pd.set_option('display.max_columns', None)\n",
    "pd.set_option('display.expand_frame_repr', False)\n",
    "\n",
    "print(df.to_string(index=False, header=False))"
   ]
  },
  {
   "cell_type": "markdown",
   "metadata": {},
   "source": [
    "## DODATNO TESTIRANJE"
   ]
  },
  {
   "cell_type": "code",
   "execution_count": 4,
   "metadata": {},
   "outputs": [
    {
     "name": "stdout",
     "output_type": "stream",
     "text": [
      "Processing sheet: oktobar 2024\n",
      "First 5 rows of oktobar 2024:\n",
      "['', '', '', '', '']\n",
      "['', '', '', '', '']\n",
      "['', 'Kvalitet nastavnog procesa', '', '', '']\n",
      "['', '', 'predavanja / računske vežbe / laboratorijske vežbe', '', '']\n",
      "['', 'Broj časova nastave na matičnom odseku', '16/0/0', '', '']\n",
      "\n",
      "Extracted Data Structure:\n",
      "Sheet: oktobar 2024\n",
      "Number of rows: 67\n",
      "Sample data: [['', '', '', '', ''], ['', '', '', '', '']]\n",
      "{'oktobar 2024': [['', '', '', '', ''], ['', '', '', '', ''], ['', 'Kvalitet nastavnog procesa', '', '', ''], ['', '', 'predavanja / računske vežbe / laboratorijske vežbe', '', ''], ['', 'Broj časova nastave na matičnom odseku', '16/0/0', '', ''], ['', '', '', '', ''], ['', 'Broj časova nastave na drugom odseku', '0/0/0', '', ''], ['', '', '', '', ''], ['', 'Broj Mentorstva na master studijama', '0', '', ''], ['', '', '', '', ''], ['', 'Broj Mentorstva na specijalističkim studijama', '0', '', ''], ['', '', '', '', ''], ['', 'Broj Mentorstva na osnovnim studijama', '1', '', ''], ['', '', '', '', ''], ['', 'Broj komisija za odbranu master rada', '0', '', ''], ['', '', '', '', ''], ['', 'Broj komisija za odbranu specijalističkog rada', '0', '', ''], ['', '', '', '', ''], ['', 'Broj komisija za odbranu završnog rada', '0', '', ''], ['', '', '', '', ''], ['', '', '', '', ''], ['', 'Kvalitet nastavnog procesa', '', '', ''], ['', '', 'Kratak opis (max 30 reči)', '', ''], ['', '[Nastavna aktivnost 1]', 'Vanredni ispitni rok Okrobar 2  - priprema blanketa, odžavanje isšita i ocenjivanje 11 studenata iz 5 predmeta.', '', ''], ['', '', '', '', ''], ['', 'Inovativnost nastavnih sadržaja', 'Unapređenje programskih sadržaja, nastavnog materijala i držanje nastave iz sledećih predmeta:', '', ''], ['', '', '1. Elektrotehnika sa elektronikom (INI i DRS)', '', ''], ['', '', '2. Arhitektura mikrokontrolera (SRT)', '', ''], ['', '', '', '', ''], ['', '[Nastavna aktivnost 3]', '', '', ''], ['', '', '', '', ''], ['', '', '', '', ''], ['', 'Rad sa Studentima', '', '', ''], ['', '', 'Kratak opis (max 30 reči)', 'Broj sati utrošen za pripremu aktivnosti', 'Broj sati utrošen za realizaciju aktivnosti'], ['', 'Rad sa studentima 1', 'Definisanje praktične teme za Master završni rad iz predmeta Programiranje Embbedded sistema', '30 min', ''], ['', '', '', '', ''], ['', 'Rad sa studentima 2', 'Konsultacije oko utvrđivanja teme za Završni rad iz predmeta Arhitektura mikrokontrolera.', '30 min', ''], ['', '', '', '', ''], ['', 'Rad sa studentima 3', 'Realizacija vanrednog ispitnog roka - Oktobar 2, petak 18.10.2024. godine', '2 h', '2 h'], ['', '', 'Realizacija vanrednog ispitnog roka - Oktobar 2, subota 19.10.2024. godine', '2 h', '6 h'], ['', '', '', '', ''], ['', '', '', '', ''], ['', 'Podizanje kvaliteta ustanove', '', '', ''], ['', '', 'Kratak opis (max 30 reči)', '', ''], ['', 'Ostalo', 'Instaliranje programskog softvera NAT 2019, učenje i rad u njemu. Korespondencija oko povezivanja radnog naloga u programu NAT 2019 sa IT službom Fakulteta tehničkih nauka u Novom Sadu.', '', ''], ['', '', '', '', ''], ['', 'Unapređenje 2', 'Rad u programskom softveru NAT 2019, učenje i rad sa koleginicom prof. Biljanom Milutinović za potrebe izmena, dopuna elektronskog obrasca za SP Mašinsko inženjerstvo sa 2 modula OPM i OMP, koji pripada Odseku Vranje, prema zahtevima recenzentske komisije. Korespondecija putem elektronske pošte sa kolegama iz Odseka Vranje i kolegom iz NAT-a.', '', ''], ['', '', '', '', ''], ['', 'Unapređenje 3', 'Rad u programskom softveru NAT 2019 sa koleginicom prof. Biljanom Milutinović za potrebe izmena u elektronskom obrascu za SP Strukovni vaspitač za rad sa decom predškolskog uzrasta  - Odsek Pirot, prema zahtevima recenzentske komisije. Korespondencija sa kolegom iz NAT-a.', '', ''], ['', '', '', '', ''], ['', '', '', '', ''], ['', '', '', '', ''], ['', 'Jačanje kapaciteta i imidža ustanove', '', '', ''], ['', '', 'Kratak opis (max 30 reči)', '', ''], ['', 'Учешће у стручним телима других установа и институција', '', '', ''], ['', '', '', '', ''], ['', 'Unapređenje 2', '', '', ''], ['', '', '', '', ''], ['', 'Unapređenje 3', '', '', ''], ['', '', '', '', ''], ['', '', '', '', ''], ['', '', '', '', ''], ['', 'Ostalo', '', '', ''], ['', 'Nedeljni sastanci Kolegijuma Odseka Niš', '', '', ''], ['', 'Sastanci Katedre za IKT', '', '', ''], ['', 'Mesečna Sednica Saveta ATVSS Niš', '', '', ''], ['', 'Promene u elektronskim obrascima prema zahtevima akreditacione komisije', 'Učenje programskog paketa NAT 2019 za potrebe akreditacija u visokom obrazovanju, doakreditacije i sređivanja elektronskog obrasca na ATVSS Niš.', '', '']]}\n"
     ]
    }
   ],
   "source": [
    "import pandas as pd\n",
    "\n",
    "# File path\n",
    "filepath = \"Novi_Izveštaj o radu_za_Nastavnike_Natasa_Bogdanovic.xlsx\"\n",
    "\n",
    "# Sheet names to extract\n",
    "sheet_names = [\"oktobar 2024\"]\n",
    "\n",
    "# Read the Excel file\n",
    "try:\n",
    "    sheets = pd.read_excel(filepath, sheet_name=sheet_names, header=None)\n",
    "except Exception as e:\n",
    "    print(f\"Error reading Excel file: {e}\")\n",
    "    exit()\n",
    "\n",
    "# Dictionary to store extracted data\n",
    "extracted_data = {}\n",
    "\n",
    "# Process each sheet\n",
    "for sheet, df in sheets.items():\n",
    "    print(f\"Processing sheet: {sheet}\")\n",
    "\n",
    "    # Convert all cells to strings and handle empty cells\n",
    "    df = df.map(lambda x: str(x).strip() if pd.notna(x) and str(x).strip() != \"\" else \"\")\n",
    "\n",
    "    # Convert the DataFrame to a list of lists\n",
    "    sheet_data = df.values.tolist()\n",
    "\n",
    "    # Store the data in the dictionary\n",
    "    extracted_data[sheet] = sheet_data\n",
    "\n",
    "    # Debugging: Print the first few rows of the sheet\n",
    "    print(f\"First 5 rows of {sheet}:\")\n",
    "    for row in sheet_data[:5]:\n",
    "        print(row)\n",
    "\n",
    "# Debugging: Print the extracted data structure\n",
    "print(\"\\nExtracted Data Structure:\")\n",
    "for sheet, content in extracted_data.items():\n",
    "    print(f\"Sheet: {sheet}\")\n",
    "    print(f\"Number of rows: {len(content)}\")\n",
    "    print(f\"Sample data: {content[:2]}\")  # Print first 2 rows for each sheet\n",
    "\n",
    "print(extracted_data)"
   ]
  }
 ],
 "metadata": {
  "kernelspec": {
   "display_name": "Python 3",
   "language": "python",
   "name": "python3"
  },
  "language_info": {
   "codemirror_mode": {
    "name": "ipython",
    "version": 3
   },
   "file_extension": ".py",
   "mimetype": "text/x-python",
   "name": "python",
   "nbconvert_exporter": "python",
   "pygments_lexer": "ipython3",
   "version": "3.13.0"
  }
 },
 "nbformat": 4,
 "nbformat_minor": 2
}
